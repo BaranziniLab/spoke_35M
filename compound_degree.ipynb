{
 "cells": [
  {
   "cell_type": "code",
   "execution_count": 36,
   "id": "847b98c6",
   "metadata": {},
   "outputs": [],
   "source": [
    "import pandas as pd\n",
    "import numpy as np\n",
    "import requests\n",
    "import matplotlib.pyplot as plt\n",
    "import seaborn as sns\n",
    "from tqdm import tqdm"
   ]
  },
  {
   "cell_type": "code",
   "execution_count": 45,
   "id": "a0249f80",
   "metadata": {},
   "outputs": [],
   "source": [
    "def get_names_from_inchikeys(inchikeys):\n",
    "    base_url = 'https://pubchem.ncbi.nlm.nih.gov/rest/pug'\n",
    "    url = f\"{base_url}/compound/inchikey/{','.join(inchikeys)}/property/IUPACName/JSON\"\n",
    "    response = requests.get(url)\n",
    "    data = response.json()\n",
    "    compound_names = []\n",
    "    for record in data['PropertyTable']['Properties']:\n",
    "        try:\n",
    "            compound_names.append(record['IUPACName'])\n",
    "        except:\n",
    "            compound_names.append(None)\n",
    "    return compound_names\n",
    "\n"
   ]
  },
  {
   "cell_type": "code",
   "execution_count": 3,
   "id": "399669a9",
   "metadata": {},
   "outputs": [],
   "source": [
    "filepath = \"../spoke_35M_data/compound_degree.csv\"\n",
    "\n",
    "df = pd.read_csv(filepath)"
   ]
  },
  {
   "cell_type": "code",
   "execution_count": 18,
   "id": "ed56880f",
   "metadata": {},
   "outputs": [
    {
     "data": {
      "text/plain": [
       "(562200, 2)"
      ]
     },
     "execution_count": 18,
     "metadata": {},
     "output_type": "execute_result"
    }
   ],
   "source": [
    "df.node_id = df.node_id.apply(lambda x:x.split(\"Compound:\")[-1])\n",
    "df.shape"
   ]
  },
  {
   "cell_type": "code",
   "execution_count": 26,
   "id": "6a395451",
   "metadata": {},
   "outputs": [
    {
     "name": "stdout",
     "output_type": "stream",
     "text": [
      "There are 5553 Compounds with degree greater than the selected threshold\n",
      "Minimum degree of that group = 786\n",
      "Maximum degree of that group = 494633\n"
     ]
    }
   ],
   "source": [
    "threshold = np.percentile(df['degree'], 99)\n",
    "\n",
    "filtered_df = df[df['degree'] > threshold]\n",
    "print(\"There are {} Compounds with degree greater than the selected threshold\".format(filtered_df.shape[0]))\n",
    "print(\"Minimum degree of that group = {}\".format(filtered_df.degree.min()))\n",
    "print(\"Maximum degree of that group = {}\".format(filtered_df.degree.max()))"
   ]
  },
  {
   "cell_type": "code",
   "execution_count": 38,
   "id": "0d3ab115",
   "metadata": {},
   "outputs": [
    {
     "data": {
      "text/plain": [
       "'QTBSBXVTEAMEQO-UHFFFAOYSA-N'"
      ]
     },
     "execution_count": 38,
     "metadata": {},
     "output_type": "execute_result"
    }
   ],
   "source": [
    "inchikey"
   ]
  },
  {
   "cell_type": "code",
   "execution_count": 43,
   "id": "44c92a70",
   "metadata": {},
   "outputs": [
    {
     "data": {
      "text/plain": [
       "{'PropertyTable': {'Properties': [{'CID': 176, 'IUPACName': 'acetic acid'},\n",
       "   {'CID': 21980959, 'IUPACName': 'hydron;acetate'},\n",
       "   {'CID': 160748163}]}}"
      ]
     },
     "execution_count": 43,
     "metadata": {},
     "output_type": "execute_result"
    }
   ],
   "source": [
    "base_url = 'https://pubchem.ncbi.nlm.nih.gov/rest/pug'\n",
    "url = f\"{base_url}/compound/inchikey/{','.join([inchikey])}/property/IUPACName/JSON\"\n",
    "response = requests.get(url)\n",
    "data = response.json()\n",
    "data"
   ]
  },
  {
   "cell_type": "code",
   "execution_count": 47,
   "id": "281468e4",
   "metadata": {},
   "outputs": [],
   "source": [
    "# inchikeys = list(filtered_df.node_id.apply(lambda x:x.split(\"inchikey:\")[-1]).unique())\n",
    "# inchi_name_dict = {}\n",
    "# for inchikey in tqdm(inchikeys):\n",
    "#     compound_names = get_names_from_inchikeys([inchikey])\n",
    "#     inchi_name_dict[\"inchikey\"] = compound_names"
   ]
  },
  {
   "cell_type": "code",
   "execution_count": 28,
   "id": "1d71e863",
   "metadata": {},
   "outputs": [
    {
     "name": "stdout",
     "output_type": "stream",
     "text": [
      "4-[[3-[4-(cyclopropanecarbonyl)piperazine-1-carbonyl]-4-fluorophenyl]methyl]-2H-phthalazin-1-one\n",
      "N-(5-chloro-1,3-benzodioxol-4-yl)-7-[2-(4-methylpiperazin-1-yl)ethoxy]-5-(oxan-4-yloxy)quinazolin-4-amine\n",
      "N-[4-[4-(4-methylpiperazin-1-yl)-6-[(5-methyl-1H-pyrazol-3-yl)amino]pyrimidin-2-yl]sulfanylphenyl]cyclopropanecarboxamide\n"
     ]
    }
   ],
   "source": []
  },
  {
   "cell_type": "code",
   "execution_count": 14,
   "id": "1c826afe",
   "metadata": {},
   "outputs": [],
   "source": [
    "# # Create a 4x4 subplot grid\n",
    "# fig, axes = plt.subplots(figsize=(4, 2))\n",
    "\n",
    "\n",
    "# # Plot the histogram and kde plot\n",
    "# sns.distplot(df[\"degree\"], hist=False, kde=True, ax=axes, \n",
    "#              kde_kws={'color': 'r', 'lw': 3})\n",
    "# plt.show()"
   ]
  },
  {
   "cell_type": "code",
   "execution_count": null,
   "id": "940e4e4a",
   "metadata": {},
   "outputs": [],
   "source": []
  }
 ],
 "metadata": {
  "kernelspec": {
   "display_name": "Python 3 (ipykernel)",
   "language": "python",
   "name": "python3"
  },
  "language_info": {
   "codemirror_mode": {
    "name": "ipython",
    "version": 3
   },
   "file_extension": ".py",
   "mimetype": "text/x-python",
   "name": "python",
   "nbconvert_exporter": "python",
   "pygments_lexer": "ipython3",
   "version": "3.10.9"
  }
 },
 "nbformat": 4,
 "nbformat_minor": 5
}
