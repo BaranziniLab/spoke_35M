{
 "cells": [
  {
   "cell_type": "code",
   "execution_count": null,
   "id": "a557636b",
   "metadata": {},
   "outputs": [],
   "source": [
    "from configparser import ConfigParser\n",
    "import pickle\n",
    "from neo4j import GraphDatabase, basic_auth"
   ]
  },
  {
   "cell_type": "code",
   "execution_count": 3,
   "id": "290d5918",
   "metadata": {},
   "outputs": [],
   "source": [
    "config_path = 'config.ini'\n",
    "parser = ConfigParser()\n",
    "parser.read([config_path])\n",
    "\n",
    "neo4_path_dict = dict(parser.items(\"NEO4J\"))\n",
    "URI = neo4_path_dict[\"uri\"]\n",
    "SPOKE_USER = neo4_path_dict[\"spoke_user\"]\n",
    "SPOKE_PASSWORD = neo4_path_dict[\"spoke_password\"]"
   ]
  },
  {
   "cell_type": "code",
   "execution_count": null,
   "id": "49bdcfdc",
   "metadata": {},
   "outputs": [],
   "source": []
  }
 ],
 "metadata": {
  "kernelspec": {
   "display_name": "Python 3 (ipykernel)",
   "language": "python",
   "name": "python3"
  },
  "language_info": {
   "codemirror_mode": {
    "name": "ipython",
    "version": 3
   },
   "file_extension": ".py",
   "mimetype": "text/x-python",
   "name": "python",
   "nbconvert_exporter": "python",
   "pygments_lexer": "ipython3",
   "version": "3.10.9"
  }
 },
 "nbformat": 4,
 "nbformat_minor": 5
}
